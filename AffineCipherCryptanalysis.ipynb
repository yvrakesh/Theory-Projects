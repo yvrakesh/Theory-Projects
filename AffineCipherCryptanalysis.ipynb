{
 "cells": [
  {
   "cell_type": "code",
   "execution_count": 6,
   "metadata": {},
   "outputs": [],
   "source": [
    "def decrypt_affine_cipher(a,key1,key2):\n",
    "    res = \"\"\n",
    "    for i in range(0,len(a)):\n",
    "        if(a[i]>='a' and a[i]<='z'):\n",
    "            res += (chr(ord('a')+((ord(a[i])-97-key2)*key1)%26))\n",
    "    return res"
   ]
  },
  {
   "cell_type": "code",
   "execution_count": 7,
   "metadata": {},
   "outputs": [],
   "source": [
    "def substring1(s, n, dict1):\n",
    "    count,l,i = 0,0,0\n",
    "    string = \"\"\n",
    "    while(i<n):\n",
    "        temp = \"\"\n",
    "        for k in range(i,n):\n",
    "            if( s[i: k+1] in dict1):\n",
    "                temp = s[i: k+1]\n",
    "        if(temp[0] == s[l:l+1]):\n",
    "            string += temp\n",
    "            string += \" \"\n",
    "            l += len(temp)\n",
    "            i = l-1\n",
    "            count += 1\n",
    "        i += 1\n",
    "    return count,string"
   ]
  },
  {
   "cell_type": "code",
   "execution_count": 8,
   "metadata": {},
   "outputs": [],
   "source": [
    "list1 = [1,3,5,7,9,11,15,17,19,21,23,25]\n",
    "\n",
    "dict1 = []\n",
    "file = open(r'D:\\Downladed files\\words_alpha.txt', 'r')\n",
    "for line in file.readlines():\n",
    "    dict1.append(line[:-1])"
   ]
  },
  {
   "cell_type": "code",
   "execution_count": 34,
   "metadata": {},
   "outputs": [],
   "source": [
    "def bruteforceattack(s):\n",
    "    print('Printing list1 elements just to ensure that function is running without interruption.')\n",
    "    print('Please ignore them')\n",
    "    n = len(s)\n",
    "    min_count = 10000000\n",
    "    fin_string = \"\"\n",
    "    for i in list1:\n",
    "        for j in range(0,26):\n",
    "            temp = decrypt_affine_cipher(s,i,j)\n",
    "            count,string = substring1(temp,n,dict1)\n",
    "            if(min_count > count):\n",
    "                min_count = count\n",
    "                fin_string = string\n",
    "                key1 = i\n",
    "                key2 = j\n",
    "        print(i)\n",
    "    key3 = 0\n",
    "    for i in list1:\n",
    "        if (key1*i)%26 == 1:\n",
    "            key3 = i\n",
    "            break\n",
    "    print('The multiplicative key used in encryption ',key3)\n",
    "    print('The multiplicative key used in decryption ',key1)\n",
    "    print('The additive key used is ',key2)\n",
    "    print('The decrypted text is below')\n",
    "    print(fin_string)"
   ]
  },
  {
   "cell_type": "code",
   "execution_count": 35,
   "metadata": {},
   "outputs": [
    {
     "name": "stdout",
     "output_type": "stream",
     "text": [
      "Printing list1 elements just to ensure that function is running without interruption.\n",
      "Please ignore them\n",
      "1\n",
      "3\n",
      "5\n",
      "7\n",
      "9\n",
      "11\n",
      "15\n",
      "17\n",
      "19\n",
      "21\n",
      "23\n",
      "25\n",
      "The multiplicative key used in encryption  3\n",
      "The multiplicative key used in decryption  9\n",
      "The additive key used is  7\n",
      "The decrypted text is below\n",
      "affine cipher is combination of additive and multiplicative ciphers which is also substitution cipher \n"
     ]
    }
   ],
   "source": [
    "s = \"hwwfutnfactgfjnxrkfuhmfxuxwhqqfmfsthuqrpomfaofnhmfstnfactgjvcfncfjhojxjpkjmfmpmfxunfactg\"\n",
    "bruteforceattack(s)"
   ]
  },
  {
   "cell_type": "code",
   "execution_count": 114,
   "metadata": {},
   "outputs": [],
   "source": [
    "def frequencybasedattack(s):\n",
    "    s = s.lower()\n",
    "    n = len(s)\n",
    "    list1 = []\n",
    "    for i in range(26):\n",
    "        list1.append(0)\n",
    "    for i in s:\n",
    "        list1[ord(i)-ord('a')] += 1\n",
    "    max_count = 0;\n",
    "    alphabet = ''\n",
    "    for i in range(26):\n",
    "        if(max_count<list1[i]):\n",
    "            max_count = list1[i]\n",
    "            alphabet = chr(ord('a')+i)\n",
    "            \n",
    "    list1 = [1,3,5,7,9,11,15,17,19,21,23,25]\n",
    "    \n",
    "    keylist = ['e','t','a','o','i','n','s','r','c']\n",
    "    min_count = 1000000\n",
    "    print('The most common alphabet is ',alphabet)\n",
    "    for i in keylist:\n",
    "        for j in list1:\n",
    "            for k in range(0,26):\n",
    "                if(chr(ord('a')+((ord(alphabet)-97-k)*j)%26) == i):\n",
    "                    temp = decrypt_affine_cipher(s,j,k)\n",
    "                    count,string = substring1(temp,n,dict1)\n",
    "                    if(min_count > count):\n",
    "                        min_count = count\n",
    "                        fin_string = string\n",
    "                        key1 = j\n",
    "                        key2 = k\n",
    "                        key = i\n",
    "    key3 = 0\n",
    "    for i in list1:\n",
    "        if (key1*i)%26 == 1:\n",
    "            key3 = i\n",
    "            break\n",
    "    print('The multiplicative key used in encryption is ',key3)\n",
    "    print('The multiplicative key used in decryption is ',key1)\n",
    "    print('The additive key used in this Affine Cipher is ',key2)\n",
    "    print('The decrypted string ')\n",
    "    print(fin_string)"
   ]
  },
  {
   "cell_type": "code",
   "execution_count": 115,
   "metadata": {},
   "outputs": [
    {
     "name": "stdout",
     "output_type": "stream",
     "text": [
      "The most common alphabet is  f\n",
      "The multiplicative key used in encryption is  3\n",
      "The multiplicative key used in decryption is  9\n",
      "The additive key used in this Affine Cipher is  7\n",
      "The decrypted string \n",
      "affine cipher is combination of additive and multiplicative ciphers which is also substitution cipher \n"
     ]
    }
   ],
   "source": [
    "s = \"hwwfutnfactgfjnxrkfuhmfxuxwhqqfmfsthuqrpomfaofnhmfstnfactgjvcfncfjhojxjpkjmfmpmfxunfactg\"\n",
    "frequencybasedattack(s)"
   ]
  },
  {
   "cell_type": "code",
   "execution_count": null,
   "metadata": {},
   "outputs": [],
   "source": []
  }
 ],
 "metadata": {
  "kernelspec": {
   "display_name": "SageMath 9.1",
   "language": "sage",
   "name": "sagemath"
  },
  "language_info": {
   "codemirror_mode": {
    "name": "ipython",
    "version": 3
   },
   "file_extension": ".py",
   "mimetype": "text/x-python",
   "name": "python",
   "nbconvert_exporter": "python",
   "pygments_lexer": "ipython3",
   "version": "3.7.3"
  }
 },
 "nbformat": 4,
 "nbformat_minor": 2
}
