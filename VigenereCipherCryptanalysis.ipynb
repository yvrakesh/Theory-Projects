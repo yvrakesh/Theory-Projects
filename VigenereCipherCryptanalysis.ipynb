{
 "cells": [
  {
   "cell_type": "code",
   "execution_count": 18,
   "metadata": {},
   "outputs": [],
   "source": [
    "def decrypt_vigenere_cipher(a,k):\n",
    "    res = \"\"\n",
    "    n = len(k)\n",
    "    for i in range(0,len(a)):\n",
    "        if(a[i]>='a' and a[i]<='z'):\n",
    "            res += chr(ord('a')+(ord(a[i])-ord('a')-k[i%n])%26)\n",
    "    return res"
   ]
  },
  {
   "cell_type": "code",
   "execution_count": 19,
   "metadata": {},
   "outputs": [],
   "source": [
    "def longestcommonsubstring(s): \n",
    "    l,ind = 0,0\n",
    "    n = len(s) \n",
    "    res = \"\"\n",
    "    list1 = [[0 for i in range(n + 1)]  for j in range(n + 1)]  \n",
    "    for i in range(1, n + 1): \n",
    "        for j in range(i + 1, n + 1): \n",
    "            if (s[i - 1] == s[j - 1] and\n",
    "                list1[i - 1][j - 1] < (j - i)): \n",
    "                list1[i][j] = list1[i - 1][j - 1] + 1\n",
    "            \n",
    "            if (list1[i][j] > l): \n",
    "                    l = list1[i][j] \n",
    "                    i = max(ind, i)       \n",
    "            else: \n",
    "                list1[i][j] = 0\n",
    "    if (l > 0): \n",
    "        for i in range(ind-l+ 1, ind + 1): \n",
    "            res = res + s[i - 1] \n",
    "  \n",
    "    return res "
   ]
  },
  {
   "cell_type": "code",
   "execution_count": 20,
   "metadata": {},
   "outputs": [
    {
     "name": "stdout",
     "output_type": "stream",
     "text": [
      "Hence the key used in this cipher is  [1, 2, 3, 4, 5, 6, 7]\n",
      "The plain text is  aaaaaaaaaaaaaaaaaaaaaaaaaaaaaaaaaaaaaaaa\n"
     ]
    }
   ],
   "source": [
    "#Choosen Plaintext attack\n",
    "PlainText = \"\"\n",
    "for i in range(40):\n",
    "    PlainText += 'a'\n",
    "CipherText = \"bcdefghbcdefghbcdefghbcdefghbcdefghbcdef\"\n",
    "res = longestRepeatedSubstring(CipherText)\n",
    "\n",
    "key = [ord(i)-ord('a') for i in res]\n",
    "print('Hence the key used in this cipher is ',key)\n",
    "\n",
    "temp = decrypt_vigenere_cipher(CipherText,key)\n",
    "print('The plain text is ',temp)"
   ]
  },
  {
   "cell_type": "code",
   "execution_count": null,
   "metadata": {},
   "outputs": [],
   "source": []
  }
 ],
 "metadata": {
  "kernelspec": {
   "display_name": "SageMath 9.1",
   "language": "sage",
   "name": "sagemath"
  },
  "language_info": {
   "codemirror_mode": {
    "name": "ipython",
    "version": 3
   },
   "file_extension": ".py",
   "mimetype": "text/x-python",
   "name": "python",
   "nbconvert_exporter": "python",
   "pygments_lexer": "ipython3",
   "version": "3.7.3"
  }
 },
 "nbformat": 4,
 "nbformat_minor": 2
}
