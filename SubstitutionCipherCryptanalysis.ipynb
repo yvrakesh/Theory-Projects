{
 "cells": [
  {
   "cell_type": "code",
   "execution_count": 1,
   "metadata": {},
   "outputs": [
    {
     "name": "stdout",
     "output_type": "stream",
     "text": [
      "The key is  ['b', 'z', 'x', 'f', 'd', 'r', 'v', 'a', 'i', 'o', 'w', 'j', 's', 'm', 'k', 'p', 'u', 'h', 'n', 'l', 'c', 'y', 'g', 'e', 'q', 't']\n"
     ]
    }
   ],
   "source": [
    "#Choosen Plaintext attack \n",
    "\n",
    "Plaintext = \"abcdefghijklmnopqrstuvwxyz\"\n",
    "Ciphertext = \"bzxfdrvaiowjsmkpuhnlcygeqt\"\n",
    "key = []\n",
    "for i in Ciphertext:\n",
    "    key.append(i)\n",
    "print('The key is ',key)"
   ]
  }
 ],
 "metadata": {
  "kernelspec": {
   "display_name": "SageMath 9.1",
   "language": "sage",
   "name": "sagemath"
  },
  "language_info": {
   "codemirror_mode": {
    "name": "ipython",
    "version": 3
   },
   "file_extension": ".py",
   "mimetype": "text/x-python",
   "name": "python",
   "nbconvert_exporter": "python",
   "pygments_lexer": "ipython3",
   "version": "3.7.3"
  }
 },
 "nbformat": 4,
 "nbformat_minor": 2
}
