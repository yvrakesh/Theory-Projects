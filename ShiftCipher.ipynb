{
 "cells": [
  {
   "cell_type": "code",
   "execution_count": 1,
   "metadata": {},
   "outputs": [],
   "source": [
    "def encrypt_shift_cipher(a,key):\n",
    "    res = []\n",
    "    for i in range(0,len(a)):\n",
    "        if (a[i]>='A' and a[i]<='Z'):\n",
    "            res.append(chr(ord('A')+(ord(a[i])-65+key)%26)) \n",
    "    return res"
   ]
  },
  {
   "cell_type": "code",
   "execution_count": 2,
   "metadata": {},
   "outputs": [],
   "source": [
    "def decrypt_shift_cipher(a,key):\n",
    "    for i in range(0,len(a)):\n",
    "        if (a[i]>='A' and a[i]<='Z'):\n",
    "            a[i] = chr(ord('A')+(ord(a[i])-65-key)%26)\n",
    "    return a"
   ]
  },
  {
   "cell_type": "code",
   "execution_count": 3,
   "metadata": {},
   "outputs": [
    {
     "name": "stdout",
     "output_type": "stream",
     "text": [
      "75\n",
      "The plain text is  SHIFTCIPHERISSUBSETOFSUBSTITUTIONCIPHERANDCAESARCIPHERISSUBSETOFSHIFTCIPHER\n",
      "The encrypted message is XMNKYHNUMJWNXXZGXJYTKXZGXYNYZYNTSHNUMJWFSIHFJXFWHNUMJWNXXZGXJYTKXMNKYHNUMJW\n",
      "The decrypted message is SHIFTCIPHERISSUBSETOFSUBSTITUTIONCIPHERANDCAESARCIPHERISSUBSETOFSHIFTCIPHER\n"
     ]
    }
   ],
   "source": [
    "#PlainText = \"Opera refers to a dramatic art form, originating in Europe, in which the emotional content is conveyed to the audience as much through music, both vocal and instrumental, as it is through the lyrics. By contrast, in musical theater an actor's dramatic performance is primary, and the music plays a lesser role. The drama in opera is presented using the primary elements of theater such as scenery, costumes, and acting. However, the words of the opera, or libretto, are sung rather than spoken. The singers are accompanied by a musical ensemble ranging from a small instrumental ensemble to a full symphonic orchestra.\"\n",
    "#PlainText = \"We hope you enjoyed reading and making sense of the above given English reading passages, remember, don’t lose heart if you don’t understand each word and each line, focus on the main idea of each paragraph of the English reading passage and the complete passage. Also, vocabulary plays an important role and that’s why we have mentioned the difficult words of the English reading passage along with the summary in given English reading passages.\"\n",
    "#PlainText = \"Shift Cipher is the one of the most vulnerable ciphers in Cryptography\"\n",
    "PlainText = \"Shift Cipher is subset of Substitution Cipher and Caesar Cipher is subset of Shift Cipher\"\n",
    "PlainText = PlainText.replace(' ','').upper()\n",
    "print(len(PlainText))\n",
    "print('The plain text is ',PlainText)\n",
    "key = 5\n",
    "\n",
    "plain_list = []\n",
    "for i in range(0,len(PlainText)):\n",
    "    plain_list.append(PlainText[i])\n",
    "    \n",
    "encrypted_message = encrypt_shift_cipher(plain_list,key)\n",
    "print('The encrypted message is ',*encrypted_message,sep='')\n",
    "\n",
    "decrypted_message = decrypt_shift_cipher(encrypted_message,key)\n",
    "print('The decrypted message is ',*decrypted_message,sep='')"
   ]
  },
  {
   "cell_type": "code",
   "execution_count": null,
   "metadata": {},
   "outputs": [],
   "source": []
  }
 ],
 "metadata": {
  "kernelspec": {
   "display_name": "SageMath 9.1",
   "language": "sage",
   "name": "sagemath"
  },
  "language_info": {
   "codemirror_mode": {
    "name": "ipython",
    "version": 3
   },
   "file_extension": ".py",
   "mimetype": "text/x-python",
   "name": "python",
   "nbconvert_exporter": "python",
   "pygments_lexer": "ipython3",
   "version": "3.7.3"
  }
 },
 "nbformat": 4,
 "nbformat_minor": 2
}
