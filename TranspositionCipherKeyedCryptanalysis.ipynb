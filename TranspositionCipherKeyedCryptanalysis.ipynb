{
 "cells": [
  {
   "cell_type": "code",
   "execution_count": 101,
   "metadata": {},
   "outputs": [],
   "source": [
    "dict1 = []\n",
    "file = open(r'D:\\Downladed files\\words_alpha.txt', 'r')\n",
    "for line in file.readlines():\n",
    "    dict1.append(line[:-1])"
   ]
  },
  {
   "cell_type": "code",
   "execution_count": 106,
   "metadata": {},
   "outputs": [],
   "source": [
    "def decrypt_transposition_cipher_keyed(a,key):\n",
    "    a = a.dot(key)\n",
    "    result = \"\"\n",
    "    for i in a:\n",
    "        for j in i:\n",
    "            result += chr(j%26+ord('a'))\n",
    "    result = result.replace('z','')\n",
    "    return result"
   ]
  },
  {
   "cell_type": "code",
   "execution_count": 103,
   "metadata": {},
   "outputs": [],
   "source": [
    "def substring1(s):\n",
    "    n = len(s)\n",
    "    count,l,i = 0,0,0\n",
    "    string = \"\"\n",
    "    while(i<n):\n",
    "        temp = \"\"\n",
    "        for k in range(i,n):\n",
    "            if( s[i: k+1] in dict1):\n",
    "                temp = s[i: k+1]\n",
    "        if(temp[0] == s[l:l+1]):\n",
    "            string += temp\n",
    "            string += \" \"\n",
    "            l += len(temp)\n",
    "            i = l-1\n",
    "            count += 1\n",
    "        i += 1\n",
    "    return count,string"
   ]
  },
  {
   "cell_type": "code",
   "execution_count": 109,
   "metadata": {},
   "outputs": [],
   "source": [
    "def bruteforceattack(a):\n",
    "    from itertools import permutations \n",
    "    import numpy as np\n",
    "    n = len(a)\n",
    "    for i in range(1,8):\n",
    "        if(n%i!=0):\n",
    "            continue\n",
    "        s = \"\"\n",
    "        for j in range(1,i+1):\n",
    "            s += str(j)\n",
    "        permutation = [''.join(p) for p in permutations(s)] \n",
    "        min_count = 10000000\n",
    "        for j in permutation:\n",
    "            key = [int(i) for i in j]\n",
    "            l = len(key)\n",
    "            arr = []\n",
    "            for i in range(l*l):\n",
    "                arr.append(0)\n",
    "            for i in range(len(key)):\n",
    "                arr[i*l+key[i]-1] = 1\n",
    "            arr = np.reshape(arr,(l,l))\n",
    "            \n",
    "            s = np.array([ord(i)-ord('a') for i in a])\n",
    "            try:\n",
    "                s = np.reshape(s,(-1,l))\n",
    "            except:\n",
    "                break\n",
    "            res = decrypt_transposition_cipher_keyed(s,arr)\n",
    "            count,string = substring1(res)\n",
    "            if(min_count > count):\n",
    "                min_count = count\n",
    "                fin_string = string\n",
    "                used_key = key \n",
    "    print('The decrypted string is below')\n",
    "    print(fin_string)\n",
    "    print('The key used in this cipher is ',used_key)\n",
    "        "
   ]
  },
  {
   "cell_type": "code",
   "execution_count": 105,
   "metadata": {},
   "outputs": [
    {
     "name": "stdout",
     "output_type": "stream",
     "text": [
      "1\n",
      "2\n",
      "3\n",
      "4\n",
      "5\n",
      "6\n",
      "7\n",
      "encrypting and decrypting using transposition cipher with the key z z z \n",
      "The key used in this cipher is  [3, 1, 6, 4, 5, 2]\n"
     ]
    }
   ],
   "source": [
    "encryptedtext = \"CEPRYNNTNGAIEDYCRDIPUNGTNSRGTISASPONIICONTHIWERPHIETHTYKZZZE\"\n",
    "encryptedtext = encryptedtext.lower()\n",
    "bruteforceattack(encryptedtext)"
   ]
  },
  {
   "cell_type": "code",
   "execution_count": 110,
   "metadata": {},
   "outputs": [
    {
     "name": "stdout",
     "output_type": "stream",
     "text": [
      "The decrypted string is below\n",
      "encrypting and decrypting using transposition cipher with the key \n",
      "The key used in this cipher is  [3, 1, 6, 4, 5, 2]\n"
     ]
    }
   ],
   "source": [
    "encryptedtext = \"CEPRYNNTNGAIEDYCRDIPUNGTNSRGTISASPONIICONTHIWERPHIETHTYKZZZE\"\n",
    "encryptedtext = encryptedtext.lower()\n",
    "bruteforceattack(encryptedtext)"
   ]
  },
  {
   "cell_type": "code",
   "execution_count": null,
   "metadata": {},
   "outputs": [],
   "source": []
  }
 ],
 "metadata": {
  "kernelspec": {
   "display_name": "SageMath 9.1",
   "language": "sage",
   "name": "sagemath"
  },
  "language_info": {
   "codemirror_mode": {
    "name": "ipython",
    "version": 3
   },
   "file_extension": ".py",
   "mimetype": "text/x-python",
   "name": "python",
   "nbconvert_exporter": "python",
   "pygments_lexer": "ipython3",
   "version": "3.7.3"
  }
 },
 "nbformat": 4,
 "nbformat_minor": 2
}
