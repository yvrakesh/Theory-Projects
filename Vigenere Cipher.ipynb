{
 "cells": [
  {
   "cell_type": "code",
   "execution_count": 5,
   "metadata": {},
   "outputs": [],
   "source": [
    "def encrypt_vigenere_cipher(a,k):\n",
    "    res = \"\"\n",
    "    n = len(k)\n",
    "    for i in range(0,len(a)):\n",
    "        if(a[i]>='a' and a[i]<='z'):\n",
    "            res += chr(ord('a')+(ord(a[i])-97+k[i%n])%26)\n",
    "    return res"
   ]
  },
  {
   "cell_type": "code",
   "execution_count": 6,
   "metadata": {},
   "outputs": [],
   "source": [
    "def decrypt_vigenere_cipher(a,k):\n",
    "    res = \"\"\n",
    "    n = len(k)\n",
    "    for i in range(0,len(a)):\n",
    "        if(a[i]>='a' and a[i]<='z'):\n",
    "            res += chr(ord('a')+(ord(a[i])-97-k[i%n])%26)\n",
    "    return res"
   ]
  },
  {
   "cell_type": "code",
   "execution_count": 7,
   "metadata": {},
   "outputs": [
    {
     "name": "stdout",
     "output_type": "stream",
     "text": [
      "79\n",
      "The inputted Plain text is  vigenerecipherismethodofencryptingbasedonseriesofkeyspolyalphabeticsubstitution\n",
      "79\n",
      "The encrypted message is  wkjiskyfeltmkyjupiynveqiisiyzrwmsmibuhhttzftlixumlgbwuuszcotmgifvlgxaitvlxzzppp\n",
      "The decrypted message is  vigenerecipherismethodofencryptingbasedonseriesofkeyspolyalphabeticsubstitution\n"
     ]
    }
   ],
   "source": [
    "PlainText = 'Vigenere Cipher is method of encrypting based on series of keys Poly Alphabetic Substitution'\n",
    "#PlainText = 'aaaaaaaaaaaaaaaaaaaaaaaaaaaaaaaaaaaaaaaa'\n",
    "PlainText = PlainText.replace(' ','').lower()\n",
    "print(len(PlainText))\n",
    "print('The inputted Plain text is ',PlainText)\n",
    "key = [1,2,3,4,5,6,7]\n",
    "\n",
    "\n",
    "encrypted_message = encrypt_vigenere_cipher(PlainText,key)\n",
    "print(len(encrypted_message))\n",
    "print('The encrypted message is ',encrypted_message)\n",
    "\n",
    "decrypted_message = decrypt_vigenere_cipher(encrypted_message,key)\n",
    "print('The decrypted message is ',decrypted_message)\n",
    "\n"
   ]
  },
  {
   "cell_type": "code",
   "execution_count": null,
   "metadata": {},
   "outputs": [],
   "source": []
  }
 ],
 "metadata": {
  "kernelspec": {
   "display_name": "SageMath 9.1",
   "language": "sage",
   "name": "sagemath"
  },
  "language_info": {
   "codemirror_mode": {
    "name": "ipython",
    "version": 3
   },
   "file_extension": ".py",
   "mimetype": "text/x-python",
   "name": "python",
   "nbconvert_exporter": "python",
   "pygments_lexer": "ipython3",
   "version": "3.7.3"
  }
 },
 "nbformat": 4,
 "nbformat_minor": 2
}
