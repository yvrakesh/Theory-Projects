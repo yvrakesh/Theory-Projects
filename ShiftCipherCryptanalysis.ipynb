{
 "cells": [
  {
   "cell_type": "code",
   "execution_count": 150,
   "metadata": {},
   "outputs": [],
   "source": [
    "def decrypt_shift_cipher(a,key):\n",
    "    res = \"\"\n",
    "    for i in range(0,len(a)):\n",
    "        if (a[i]>='a' and a[i]<='z'):\n",
    "             res += chr(ord('a')+(ord(a[i])-ord('a')-key)%26)\n",
    "    return res"
   ]
  },
  {
   "cell_type": "code",
   "execution_count": 151,
   "metadata": {},
   "outputs": [],
   "source": [
    "# Travel to all the possible contiguous elements\n",
    "def substring1(s, n, dict1):\n",
    "    count,l,i = 0,0,0\n",
    "    string = \"\"\n",
    "    while(i<n):\n",
    "        temp = \"\"\n",
    "        for k in range(i,n):\n",
    "            if( s[i: k+1] in dict1):\n",
    "                temp = s[i: k+1]\n",
    "        if(temp[0] == s[l:l+1]):\n",
    "            string += temp\n",
    "            string += \" \"\n",
    "            l += len(temp)\n",
    "            i = l-1\n",
    "            count += 1\n",
    "        i += 1\n",
    "    return count,string"
   ]
  },
  {
   "cell_type": "code",
   "execution_count": 140,
   "metadata": {},
   "outputs": [],
   "source": [
    "def substring2(s, n, dict1):\n",
    "    count = 0\n",
    "    for i in range(n):\n",
    "        for k in range(i,n):\n",
    "            if( s[i: k+1] in dict1):\n",
    "                count += 1\n",
    "    return count"
   ]
  },
  {
   "cell_type": "code",
   "execution_count": 152,
   "metadata": {},
   "outputs": [],
   "source": [
    "#Defined the dictionary\n",
    "dict1 = []\n",
    "file = open(r'D:\\Downladed files\\words_alpha.txt', 'r')\n",
    "for line in file.readlines():\n",
    "    dict1.append(line[:-1])"
   ]
  },
  {
   "cell_type": "code",
   "execution_count": 162,
   "metadata": {},
   "outputs": [],
   "source": [
    "def bruteforceattack(s):\n",
    "    s = s.lower()\n",
    "    n = len(s)\n",
    "    min_count = 10000000\n",
    "    fin_string = \"\"\n",
    "    key = 0\n",
    "    for i in range(1,26):\n",
    "        temp = decrypt_shift_cipher(s,i)\n",
    "        count,string = substring1(temp,n,dict1)\n",
    "        print(count)\n",
    "        if(min_count > count):\n",
    "            min_count = count\n",
    "            fin_string = string\n",
    "            key = i\n",
    "    print('The key used in this shift cipher is ',key)\n",
    "    print(fin_string)"
   ]
  },
  {
   "cell_type": "code",
   "execution_count": 163,
   "metadata": {},
   "outputs": [
    {
     "name": "stdout",
     "output_type": "stream",
     "text": [
      "43\n",
      "45\n",
      "48\n",
      "38\n",
      "15\n",
      "42\n",
      "41\n",
      "46\n",
      "40\n",
      "45\n",
      "46\n",
      "42\n",
      "43\n",
      "54\n",
      "52\n",
      "43\n",
      "41\n",
      "36\n",
      "40\n",
      "40\n",
      "38\n",
      "45\n",
      "48\n",
      "44\n",
      "50\n",
      "The key used in this shift cipher is  5\n",
      "shift cipher is subset of substitution cipher and caesar cipher is subset of shift cipher \n"
     ]
    }
   ],
   "source": [
    "s = \"XMNKYHNUMJWNXXZGXJYTKXZGXYNYZYNTSHNUMJWFSIHFJXFWHNUMJWNXXZGXJYTKXMNKYHNUMJW\"\n",
    "bruteforceattack(s)"
   ]
  },
  {
   "cell_type": "code",
   "execution_count": 164,
   "metadata": {},
   "outputs": [],
   "source": [
    "# Frequency based attack \n",
    "def frequencybasedattack(s):\n",
    "    s = \"XMNKYHNUMJWNXXZGXJYTKXZGXYNYZYNTSHNUMJWFSIHFJXFWHNUMJWNXXZGXJYTKXMNKYHNUMJW\"\n",
    "    s = s.lower()\n",
    "    n = len(s)\n",
    "    list1 = []\n",
    "    for i in range(26):\n",
    "        list1.append(0)\n",
    "    for i in s:\n",
    "        list1[ord(i)-ord('a')] += 1\n",
    "    max_count = 0;\n",
    "    alphabet = ''\n",
    "    for i in range(26):\n",
    "        if(max_count<list1[i]):\n",
    "            max_count = list1[i]\n",
    "            alphabet = chr(ord('a')+i)\n",
    "    keylist = []\n",
    "    keylist.append((ord(alphabet)-ord('e'))%26)\n",
    "    keylist.append((ord(alphabet)-ord('t'))%26)\n",
    "    keylist.append((ord(alphabet)-ord('a'))%26)\n",
    "    keylist.append((ord(alphabet)-ord('o'))%26)\n",
    "    keylist.append((ord(alphabet)-ord('i'))%26)\n",
    "    keylist.append((ord(alphabet)-ord('n'))%26)\n",
    "    keylist.append((ord(alphabet)-ord('s'))%26)\n",
    "    keylist.append((ord(alphabet)-ord('r'))%26)\n",
    "    keylist.append((ord(alphabet)-ord('c'))%26)\n",
    "    min_count = 1000000\n",
    "    key = 0\n",
    "    for i in keylist:\n",
    "        temp = decrypt_shift_cipher(s,i)\n",
    "        count,string = substring1(temp,n,dict1)\n",
    "        print(count)\n",
    "        if(min_count > count):\n",
    "            min_count = count\n",
    "            fin_string = string\n",
    "            key = i\n",
    "    print('The key used in this Shift Cipher is ',key)\n",
    "    print(fin_string)\n"
   ]
  },
  {
   "cell_type": "code",
   "execution_count": 165,
   "metadata": {},
   "outputs": [
    {
     "name": "stdout",
     "output_type": "stream",
     "text": [
      "40\n",
      "38\n",
      "48\n",
      "40\n",
      "52\n",
      "45\n",
      "15\n",
      "42\n",
      "38\n",
      "The key used in this Shift Cipher is  5\n",
      "shift cipher is subset of substitution cipher and caesar cipher is subset of shift cipher \n"
     ]
    }
   ],
   "source": [
    "s = \"XMNKYHNUMJWNXXZGXJYTKXZGXYNYZYNTSHNUMJWFSIHFJXFWHNUMJWNXXZGXJYTKXMNKYHNUMJW\"\n",
    "frequencybasedattack(s)"
   ]
  },
  {
   "cell_type": "code",
   "execution_count": 169,
   "metadata": {},
   "outputs": [
    {
     "name": "stdout",
     "output_type": "stream",
     "text": [
      "The decrypted message is  shiftcipheristheoneofthemostvulnerableciphersincryptography\n",
      "The key used in this Cipher is  5\n"
     ]
    }
   ],
   "source": [
    "# Choosen Plaintext attack\n",
    "\n",
    "Plaintext = \"Shift Cipher is the one of the most vulnerable ciphers in Cryptography\"\n",
    "Plaintext = Plaintext.lower()\n",
    "encryptedtext = \"XMNKYHNUMJWNXYMJTSJTKYMJRTXYAZQSJWFGQJHNUMJWXNSHWDUYTLWFUMD\"\n",
    "encryptedtext = encryptedtext.lower()\n",
    "key = (ord(encryptedtext[0:1]) - ord(Plaintext[0:1]))%26\n",
    "decryptedtext = decrypt_shift_cipher(encryptedtext,key)\n",
    "print('The decrypted message is ',decryptedtext)\n",
    "print('The key used in this Cipher is ',key)"
   ]
  },
  {
   "cell_type": "code",
   "execution_count": null,
   "metadata": {},
   "outputs": [],
   "source": []
  }
 ],
 "metadata": {
  "kernelspec": {
   "display_name": "SageMath 9.1",
   "language": "sage",
   "name": "sagemath"
  },
  "language_info": {
   "codemirror_mode": {
    "name": "ipython",
    "version": 3
   },
   "file_extension": ".py",
   "mimetype": "text/x-python",
   "name": "python",
   "nbconvert_exporter": "python",
   "pygments_lexer": "ipython3",
   "version": "3.7.3"
  }
 },
 "nbformat": 4,
 "nbformat_minor": 2
}
