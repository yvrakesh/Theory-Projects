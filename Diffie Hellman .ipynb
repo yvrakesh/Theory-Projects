{
 "cells": [
  {
   "cell_type": "code",
   "execution_count": 11,
   "metadata": {},
   "outputs": [
    {
     "name": "stdout",
     "output_type": "stream",
     "text": [
      "t before permutation  [37, 111, 185]\n",
      "\n",
      "t after permutation  [37, 111, 185]\n",
      "Ascii value in binary  [1, 1, 0, 0, 0, 0, 1]\n",
      "s is  148\n",
      "The multiplicative inverse of key is  149\n",
      "s1 is  4\n",
      "xi before permutation  [0, 1, 1]\n",
      "xi after permutation  [0, 1, 1]\n"
     ]
    }
   ],
   "source": [
    "def inv_key(key):\n",
    "    for i in range(1,899,2):\n",
    "        if((key*i)%n == 1):\n",
    "            print('The multiplicative inverse of key is ',i);\n",
    "            return i\n",
    "        \n",
    "def dec2bin(num):\n",
    "    res = []\n",
    "    while(1):\n",
    "        if(num<1):\n",
    "            res.reverse()\n",
    "            return res\n",
    "        res.append(num%2)\n",
    "        num = int(num/2)\n",
    "        \n",
    "        \n",
    "# b = [7,11,19,39,79,157,313]\n",
    "b = [1,3,5]\n",
    "# b = [7, 9, 18, 38, 74, 150]\n",
    "n = 689\n",
    "ptable = [1,2,3,4,5,6,7]\n",
    "key = 37\n",
    "encrypting_letter = 'a'\n",
    "\n",
    "t = []\n",
    "for i in range(len(b)):\n",
    "    t.append((key*b[i])%n)\n",
    "print('t before permutation ',t)\n",
    "print('')\n",
    "t1 = []\n",
    "for i in range(len(b)):\n",
    "    t1.append(t[ptable[i]-1])\n",
    "print('t after permutation ',t1)\n",
    "\n",
    "\n",
    "alphabet = dec2bin(ord(encrypting_letter))\n",
    "print('Ascii value in binary ',alphabet)\n",
    "s = 0\n",
    "for i in range(len(t1)):\n",
    "    s += t1[i] * alphabet[i]\n",
    "print('s is ',s)\n",
    "s1 = (s*inv_key(key))%n\n",
    "print('s1 is ',s1)\n",
    "\n",
    "\n",
    "\n",
    "res_list = []\n",
    "for i in range(len(b)-1,-1,-1):\n",
    "    if(s1 >= b[i]):\n",
    "        s1 = s1 - b[i]\n",
    "        res_list.append(1)\n",
    "    else:\n",
    "        res_list.append(0)\n",
    "print('xi before permutation ',res_list)\n",
    "\n",
    "t1 = []\n",
    "for i in range(len(b)):\n",
    "    t1.append(res_list[ptable[i]-1])\n",
    "print('xi after permutation ',t1)"
   ]
  },
  {
   "cell_type": "code",
   "execution_count": 12,
   "metadata": {},
   "outputs": [
    {
     "data": {
      "text/plain": [
       "[1, 1, 0, 0, 0]"
      ]
     },
     "execution_count": 12,
     "metadata": {},
     "output_type": "execute_result"
    }
   ],
   "source": [
    "dec2bin(ord('y')-ord('a'))"
   ]
  },
  {
   "cell_type": "code",
   "execution_count": 13,
   "metadata": {},
   "outputs": [],
   "source": [
    "def inv_key(key,n):\n",
    "    for i in range(1,n,1):\n",
    "        if((key*i)%n == 1):\n",
    "            print('The multiplicative inverse of key is ',i);\n",
    "            if(key==i):\n",
    "                continue\n",
    "            return i\n",
    "alpha,beta = 24140,40902\n",
    "inv_key(alpha,beta)"
   ]
  },
  {
   "cell_type": "code",
   "execution_count": 7,
   "metadata": {},
   "outputs": [
    {
     "name": "stdout",
     "output_type": "stream",
     "text": [
      "GCD  34\n"
     ]
    }
   ],
   "source": [
    "def gcdExtended(a, b):  \n",
    "    if a == 0 :   \n",
    "        return b, 0, 1\n",
    "    gcd, x1, y1 = gcdExtended(b%a, a)  \n",
    "    x = y1 - (b//a) * x1  \n",
    "    y = x1       \n",
    "    return gcd, x, y \n",
    "gcd,x,y = gcdExtended(alpha,beta)\n",
    "print('GCD ',gcd)"
   ]
  },
  {
   "cell_type": "code",
   "execution_count": 121,
   "metadata": {},
   "outputs": [
    {
     "data": {
      "text/plain": [
       "112"
      ]
     },
     "execution_count": 121,
     "metadata": {},
     "output_type": "execute_result"
    }
   ],
   "source": [
    "int(pow(5,31))%247"
   ]
  },
  {
   "cell_type": "code",
   "execution_count": 10,
   "metadata": {},
   "outputs": [
    {
     "name": "stdout",
     "output_type": "stream",
     "text": [
      "59   61  \n"
     ]
    }
   ],
   "source": [
    "def func(n):\n",
    "    for i in range(3,10000,2):\n",
    "        for j in range(5,10000,2):\n",
    "            if(i*j == n):\n",
    "                print(i,' ',j,' ')\n",
    "                return \n",
    "func(3599)"
   ]
  },
  {
   "cell_type": "code",
   "execution_count": 24,
   "metadata": {},
   "outputs": [
    {
     "name": "stdout",
     "output_type": "stream",
     "text": [
      "secret key is 8\n",
      "secret key is 4\n"
     ]
    }
   ],
   "source": [
    "def prim(r1,alpha,p):\n",
    "    for i in range(p):\n",
    "        if(r1 == (alpha^i)%p):\n",
    "            print('secret key is',i)\n",
    "            break\n",
    "prim(3,2,11)\n",
    "prim(5,2,11)\n",
    "        "
   ]
  },
  {
   "cell_type": "code",
   "execution_count": 8,
   "metadata": {},
   "outputs": [],
   "source": [
    "from math import sqrt \n",
    "def isPrime( n):  \n",
    "\tif (n <= 1): \n",
    "\t\treturn False\n",
    "\tif (n <= 3): \n",
    "\t\treturn True \n",
    "\tif (n % 2 == 0 or n % 3 == 0): \n",
    "\t\treturn False\n",
    "\ti = 5\n",
    "\twhile(i * i <= n): \n",
    "\t\tif (n % i == 0 or n % (i + 2) == 0) : \n",
    "\t\t\treturn False\n",
    "\t\ti = i + 6\n",
    "\treturn True\n",
    "def power( x, y, p): \n",
    "\tres = 1  \n",
    "\tx = x % p \n",
    "\twhile (y > 0):  \n",
    "\t\tif (y & 1): \n",
    "\t\t\tres = (res * x) % p  \n",
    "\t\ty = y >> 1\n",
    "\t\tx = (x * x) % p \n",
    "\treturn res \n",
    "\n",
    "def findPrimefactors(s, n) : \n",
    "\twhile (n % 2 == 0) : \n",
    "\t\ts.add(2) \n",
    "\t\tn = n // 2\n",
    "\tfor i in range(3, int(sqrt(n)), 2): \n",
    "\t\twhile (n % i == 0) : \n",
    "\t\t\ts.add(i) \n",
    "\t\t\tn = n // i \n",
    "\tif (n > 2) : \n",
    "\t\ts.add(n) \n",
    "def findPrimitive( n) : \n",
    "\ts = set() \n",
    "\tif (isPrime(n) == False): \n",
    "\t\treturn -1\n",
    "\tphi = n - 1\n",
    "\tfindPrimefactors(s, phi) \n",
    "\tfor r in range(2, phi + 1): \n",
    "\t\tflag = False\n",
    "\t\tfor it in s: \n",
    "\t\t\tif (power(r, phi // it, n) == 1): \n",
    "\t\t\t\tflag = True\n",
    "\t\t\t\tbreak\n",
    "\t\tif (flag == False): \n",
    "\t\t\treturn r \n",
    "\treturn -1\n"
   ]
  },
  {
   "cell_type": "code",
   "execution_count": 9,
   "metadata": {},
   "outputs": [
    {
     "name": "stdout",
     "output_type": "stream",
     "text": [
      "Smallest primitive root of 7 is 3\n",
      "Key 1 is  4\n",
      "Key 2 is  4\n",
      "At the send key shared is  2\n",
      "At the receive key shared is  2\n"
     ]
    }
   ],
   "source": [
    "key = 7\n",
    "x = findPrimitive(key)\n",
    "print(\"Smallest primitive root of\",key, \"is\",x) \n",
    "x = 2\n",
    "xa,xb = 5,5\n",
    "ya = (x^xa)%key\n",
    "yb = (x^xb)%key\n",
    "print('Key 1 is ',ya)\n",
    "print('Key 2 is ',yb)\n",
    "\n",
    "resa = (yb^xa)%key\n",
    "resb = (ya^xb)%key\n",
    "print('At the send key shared is ',resa)\n",
    "print('At the receive key shared is ',resb)"
   ]
  },
  {
   "cell_type": "code",
   "execution_count": null,
   "metadata": {},
   "outputs": [],
   "source": []
  }
 ],
 "metadata": {
  "kernelspec": {
   "display_name": "SageMath 9.1",
   "language": "sage",
   "name": "sagemath"
  },
  "language_info": {
   "codemirror_mode": {
    "name": "ipython",
    "version": 3
   },
   "file_extension": ".py",
   "mimetype": "text/x-python",
   "name": "python",
   "nbconvert_exporter": "python",
   "pygments_lexer": "ipython3",
   "version": "3.7.3"
  }
 },
 "nbformat": 4,
 "nbformat_minor": 2
}
