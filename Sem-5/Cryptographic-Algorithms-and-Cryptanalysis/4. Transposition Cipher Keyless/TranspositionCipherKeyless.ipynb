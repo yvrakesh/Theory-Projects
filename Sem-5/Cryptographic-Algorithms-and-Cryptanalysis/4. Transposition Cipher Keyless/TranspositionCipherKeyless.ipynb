{
 "cells": [
  {
   "cell_type": "code",
   "execution_count": 7,
   "metadata": {},
   "outputs": [],
   "source": [
    "def encrypt_transposition_cipher_keyless(a):\n",
    "    result = \"\"\n",
    "    for i in range(0,len(a),2):\n",
    "        result += a[i]\n",
    "    for i in range(1,len(a),2):\n",
    "        result += a[i]\n",
    "    return result"
   ]
  },
  {
   "cell_type": "code",
   "execution_count": 8,
   "metadata": {},
   "outputs": [],
   "source": [
    "def decrypt_transposition_cipher_keyless(a):\n",
    "    result = \"\"\n",
    "    n = len(a)\n",
    "    b = ceil(n/2)\n",
    "    for i in range(0,b,1):\n",
    "        result += a[i]\n",
    "        if(i+b<n):\n",
    "            result += a[b+i]\n",
    "    return result"
   ]
  },
  {
   "cell_type": "code",
   "execution_count": 11,
   "metadata": {},
   "outputs": [
    {
     "name": "stdout",
     "output_type": "stream",
     "text": [
      "The encrypted message is  ecytnuigrnpstocpewtothkynrpigsntasoiinihrihutee\n",
      "The decrypted message is  encryptingusingtranspositioncipherwithoutthekey\n"
     ]
    }
   ],
   "source": [
    "#PlainText = 'Apple'\n",
    "PlainText = 'Encrypting using Transposition Cipher without the key'\n",
    "PlainText = PlainText.replace(' ','').lower()\n",
    "encrypted_message = encrypt_transposition_cipher_keyless(PlainText)\n",
    "print('The encrypted message is ',encrypted_message)\n",
    "decrypted_message = decrypt_transposition_cipher_keyless(encrypted_message)\n",
    "print('The decrypted message is ',decrypted_message)\n"
   ]
  },
  {
   "cell_type": "code",
   "execution_count": null,
   "metadata": {},
   "outputs": [],
   "source": []
  }
 ],
 "metadata": {
  "kernelspec": {
   "display_name": "SageMath 9.1",
   "language": "sage",
   "name": "sagemath"
  },
  "language_info": {
   "codemirror_mode": {
    "name": "ipython",
    "version": 3
   },
   "file_extension": ".py",
   "mimetype": "text/x-python",
   "name": "python",
   "nbconvert_exporter": "python",
   "pygments_lexer": "ipython3",
   "version": "3.7.3"
  }
 },
 "nbformat": 4,
 "nbformat_minor": 2
}
