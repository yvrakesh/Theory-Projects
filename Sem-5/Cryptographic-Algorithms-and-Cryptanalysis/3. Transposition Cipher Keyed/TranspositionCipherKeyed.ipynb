{
 "cells": [
  {
   "cell_type": "code",
   "execution_count": 2,
   "metadata": {},
   "outputs": [],
   "source": [
    "def encrypt_transposition_cipher_keyed(a,key):\n",
    "    a = a.dot(key)\n",
    "    result = \"\"\n",
    "    for i in a:\n",
    "        for j in i:\n",
    "            result += chr(j%26 + 65)\n",
    "    return result"
   ]
  },
  {
   "cell_type": "code",
   "execution_count": 5,
   "metadata": {},
   "outputs": [],
   "source": [
    "def decrypt_transposition_cipher_keyed(a,key):\n",
    "    a = a.dot(key)\n",
    "    result = \"\"\n",
    "    for i in a:\n",
    "        for j in i:\n",
    "            result += chr(j%26+65)\n",
    "    result = result.replace('Z','')\n",
    "    return result"
   ]
  },
  {
   "cell_type": "code",
   "execution_count": 8,
   "metadata": {},
   "outputs": [
    {
     "name": "stdout",
     "output_type": "stream",
     "text": [
      "The encrypted message is  CEPRYNNTNGAIEDYCRDIPUNGTNSRGTISASPONIICONTHIWERPHIETHTYKZZZE\n",
      "The decrypted message is  ENCRYPTINGANDDECRYPTINGUSINGTRANSPOSITIONCIPHERWITHTHEKEY\n"
     ]
    }
   ],
   "source": [
    "import numpy as np\n",
    "PlainText = \"Encrypting and Decrypting using Transposition Cipher with the key\"\n",
    "PlainText = PlainText.replace(\" \",'').upper()\n",
    "n = len(PlainText)\n",
    "key = [3,1,6,4,5,2]\n",
    "#key = [2,1,3]\n",
    "l = len(key)\n",
    "arr = []\n",
    "for i in range(l*l):\n",
    "    arr.append(0)\n",
    "for i in range(l):\n",
    "    arr[(key[i]-1)*l + i] = 1\n",
    "arr = np.reshape(arr,(l,l))\n",
    "\n",
    "if(n%l != 0):\n",
    "    dump = l - n%l\n",
    "    for i in range(dump):\n",
    "        PlainText += 'Z'\n",
    "\n",
    "plaintext = np.array([ord(i)-65 for i in PlainText])\n",
    "plaintext = np.reshape(plaintext,(-1,len(key)))\n",
    "encrypted_message = encrypt_transposition_cipher_keyed(plaintext,arr)\n",
    "print('The encrypted message is ',encrypted_message)\n",
    "\n",
    "encrypted_text = np.array([ord(i)-65 for i in encrypted_message])\n",
    "encrypted_text = np.reshape(encrypted_text,(-1,len(key)))\n",
    "arr = []\n",
    "for i in range(l*l):\n",
    "    arr.append(0)\n",
    "for i in range(len(key)):\n",
    "    arr[i*l+key[i]-1] = 1\n",
    "arr = np.reshape(arr,(l,l))\n",
    "decrypted_message = decrypt_transposition_cipher_keyed(encrypted_text,arr)\n",
    "print('The decrypted message is ',decrypted_message)"
   ]
  },
  {
   "cell_type": "code",
   "execution_count": null,
   "metadata": {},
   "outputs": [],
   "source": []
  },
  {
   "cell_type": "code",
   "execution_count": null,
   "metadata": {},
   "outputs": [],
   "source": []
  }
 ],
 "metadata": {
  "kernelspec": {
   "display_name": "SageMath 9.1",
   "language": "sage",
   "name": "sagemath"
  },
  "language_info": {
   "codemirror_mode": {
    "name": "ipython",
    "version": 3
   },
   "file_extension": ".py",
   "mimetype": "text/x-python",
   "name": "python",
   "nbconvert_exporter": "python",
   "pygments_lexer": "ipython3",
   "version": "3.7.3"
  }
 },
 "nbformat": 4,
 "nbformat_minor": 2
}
