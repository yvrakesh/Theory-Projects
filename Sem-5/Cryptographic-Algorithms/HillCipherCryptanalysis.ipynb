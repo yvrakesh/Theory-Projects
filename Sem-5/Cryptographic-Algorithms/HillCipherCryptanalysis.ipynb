{
 "cells": [
  {
   "cell_type": "code",
   "execution_count": 156,
   "metadata": {},
   "outputs": [],
   "source": [
    "dict1 = []\n",
    "file = open(r'D:\\Downladed files\\words_alpha.txt', 'r')\n",
    "for line in file.readlines():\n",
    "    dict1.append(line[:-1])"
   ]
  },
  {
   "cell_type": "code",
   "execution_count": 157,
   "metadata": {},
   "outputs": [],
   "source": [
    "def decrypt_hill_cipher(a,key):\n",
    "    a = a.dot(key)\n",
    "    result = \"\"\n",
    "    for i in a:\n",
    "        for j in i:\n",
    "            result += chr(j%26 + ord('a'))\n",
    "    result = result.replace('z','')\n",
    "    return result"
   ]
  },
  {
   "cell_type": "code",
   "execution_count": 158,
   "metadata": {},
   "outputs": [],
   "source": [
    "def substring1(s):\n",
    "    n = len(s)\n",
    "    l,i = 0,0\n",
    "    string = \"\"\n",
    "    while(i<n):\n",
    "        temp = \"\"\n",
    "        for k in range(i,n):\n",
    "            if( s[i: k+1] in dict1):\n",
    "                temp = s[i: k+1]\n",
    "        if(temp[0] == s[l:l+1]):\n",
    "            string += temp\n",
    "            string += \" \"\n",
    "            l += len(temp)\n",
    "            i = l-1\n",
    "        i += 1\n",
    "    return string"
   ]
  },
  {
   "cell_type": "code",
   "execution_count": 159,
   "metadata": {},
   "outputs": [],
   "source": [
    "def multiplicative_inverse(a) : \n",
    "    m,m0,y,x = 26,26,0,1 \n",
    "    while (a>1) :\n",
    "        if(m==0):\n",
    "            return -1;\n",
    "        q = a//m \n",
    "        t = m \n",
    "        m = a%m \n",
    "        a = t \n",
    "        t = y \n",
    "        y = x - q * y \n",
    "        x = t \n",
    "    if (x<0): \n",
    "        x = x + m0   \n",
    "    return x "
   ]
  },
  {
   "cell_type": "code",
   "execution_count": 160,
   "metadata": {},
   "outputs": [],
   "source": [
    "#Choosen PlainText attack\n",
    "def plaintextattack(p,c):\n",
    "    import numpy as np\n",
    "    import math\n",
    "    from sympy import Matrix\n",
    "    n = len(p)\n",
    "    for i in range(1,8):\n",
    "        if(n != i*i):\n",
    "            continue\n",
    "            \n",
    "        numpy_array = np.array([ord(i)-ord('a') for i in p])\n",
    "        res = np.reshape(numpy_array,(i,i))\n",
    "        \n",
    "        determinant = np.linalg.det(res)\n",
    "        determinant = int(round(determinant))\n",
    "        a = Matrix(res).inv_mod(26)\n",
    "\n",
    "        x = multiplicative_inverse(determinant%26)\n",
    "        list1 = np.array([round((i*determinant*x)%26) for i in a])\n",
    "        list1 = np.reshape(list1,(i,i))\n",
    "\n",
    "        \n",
    "        encrypted = np.array([ord(i)-ord('a') for i in c])\n",
    "        encrypted = np.reshape(encrypted,(i,i))\n",
    "        \n",
    "        \n",
    "        key = list1.dot(encrypted)%26\n",
    "        \n",
    "        key = np.matrix(key,dtype = 'int')\n",
    "        determinant = np.linalg.det(key)\n",
    "        determinant = int(round(determinant))\n",
    "        a = Matrix(key).inv_mod(26)\n",
    "        x = multiplicative_inverse(determinant%26)\n",
    "        list1 = np.array([round((i*determinant*x)%26) for i in a])\n",
    "        list1 = np.reshape(list1,(i,i))\n",
    "        \n",
    "        res = decrypt_hill_cipher(encrypted,list1)\n",
    "        return substring1(res)"
   ]
  },
  {
   "cell_type": "code",
   "execution_count": 161,
   "metadata": {},
   "outputs": [
    {
     "name": "stdout",
     "output_type": "stream",
     "text": [
      "The decrypted text is below given\n",
      "product based jobs \n"
     ]
    }
   ],
   "source": [
    "PlainText = \"PRODUCTBASEDJOBS\"\n",
    "PlainText = PlainText.lower()\n",
    "CipherText = \"HGQVFZUHTIVSZVKO\"\n",
    "CipherText = CipherText.lower()\n",
    "result = plaintextattack(PlainText,CipherText)\n",
    "print('The decrypted text is below given')\n",
    "print(result)"
   ]
  },
  {
   "cell_type": "code",
   "execution_count": null,
   "metadata": {},
   "outputs": [],
   "source": []
  }
 ],
 "metadata": {
  "kernelspec": {
   "display_name": "SageMath 9.1",
   "language": "sage",
   "name": "sagemath"
  },
  "language_info": {
   "codemirror_mode": {
    "name": "ipython",
    "version": 3
   },
   "file_extension": ".py",
   "mimetype": "text/x-python",
   "name": "python",
   "nbconvert_exporter": "python",
   "pygments_lexer": "ipython3",
   "version": "3.7.3"
  }
 },
 "nbformat": 4,
 "nbformat_minor": 2
}
