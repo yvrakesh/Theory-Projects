{
 "cells": [
  {
   "cell_type": "code",
   "execution_count": 12,
   "metadata": {},
   "outputs": [],
   "source": [
    "def encrypt_hill_cipher(a,key):\n",
    "    a = a.dot(key)\n",
    "    result = \"\"\n",
    "    for i in a:\n",
    "            for j in i:\n",
    "                result += chr(j%26 + 65)\n",
    "    return result"
   ]
  },
  {
   "cell_type": "code",
   "execution_count": 13,
   "metadata": {},
   "outputs": [],
   "source": [
    "def decrypt_hill_cipher(a,key):\n",
    "    a = a.dot(key)\n",
    "    result = \"\"\n",
    "    for i in a:\n",
    "        for j in i:\n",
    "            result += chr(j%26+65)\n",
    "    result = result.replace('Z','')\n",
    "    return result"
   ]
  },
  {
   "cell_type": "code",
   "execution_count": 14,
   "metadata": {},
   "outputs": [],
   "source": [
    "def multiplicative_inverse(a,mod_key) : \n",
    "    m,m0,y,x = mod_key,mod_key,0,1 \n",
    "    while (a>1) :\n",
    "        if(m==0):\n",
    "            return -1;\n",
    "        q = a//m \n",
    "        t = m \n",
    "        m = a%m \n",
    "        a = t \n",
    "        t = y \n",
    "        y = x - q * y \n",
    "        x = t \n",
    "    if (x<0): \n",
    "        x = x + m0   \n",
    "    return x "
   ]
  },
  {
   "cell_type": "code",
   "execution_count": 20,
   "metadata": {},
   "outputs": [
    {
     "name": "stdout",
     "output_type": "stream",
     "text": [
      "[[ 3  5  7]\n",
      " [ 1  4 13]\n",
      " [ 2  7  3]]\n",
      "HILLCIPHERUSESMATRIXMULTIPLICATIONUSINGINVERSETOENCRYPTANDDECRYPTZ\n",
      "The encrypted message is \"  ZOEZPXIBADFRCUMBNMTIBFRCJVYAWEPRTRLPXEJBFCNGRHMFDIVBAIFEQUDUTMVKOL  \"\n",
      "The determinant is  -129\n",
      "[[15 14 11]\n",
      " [9 5 0]\n",
      " [1 11 9]]\n",
      "[[81 208 320]\n",
      " [32 65 128]\n",
      " [32 112 177]]\n",
      "The decrypted message is \"  LWNCONKDUEOAAODPUFKWVVKBDUYKHKYFQKAWKJDGJKKFSIBOXYFXGRJVKYLIBTB  \"\n"
     ]
    }
   ],
   "source": [
    "import numpy as np\n",
    "import math\n",
    "from sympy import Matrix\n",
    "\n",
    "#key = np.array([[3,4,7,1],[1,2,4,6],[10,7,5,15],[13,16,11,2]])\n",
    "key = np.array([[3,5,7],[1,4,13],[2,7,3]])\n",
    "print(key)\n",
    "key_length = key.shape[0];\n",
    "PlainText = \"Hill Cipher uses matrix multiplication using inverse to encrypt and decrypt\"\n",
    "#PlainText = 'Product based jobs'\n",
    "PlainText = PlainText.replace(\" \",'').upper()\n",
    "n = len(PlainText)\n",
    "\n",
    "if(n%4 != 0):\n",
    "    dump = key_length - len(PlainText)%key_length\n",
    "    for i in range(dump):\n",
    "        PlainText += 'Z'\n",
    "print(PlainText)\n",
    "\n",
    "plaintext = np.array([ord(i)-65 for i in PlainText])\n",
    "plaintext = np.reshape(plaintext,(-1,key_length))\n",
    "encrypted_message = encrypt_hill_cipher(plaintext,key)\n",
    "print('The encrypted message is \" ',encrypted_message,' \"')\n",
    "encrypted_text = np.array([ord(i)-65 for i in encrypted_message])\n",
    "encrypted_text = np.reshape(encrypted_text,(-1,key_length))\n",
    "\n",
    "encrypted = np.array([ord(i)-65 for i in encrypted_message])\n",
    "encrypted = np.reshape(encrypted,(-1,key_length))\n",
    "determinant = np.linalg.det(key)\n",
    "determinant = int(round(determinant))\n",
    "print('The determinant is ',determinant)\n",
    "mod_key = 16\n",
    "\n",
    "a = Matrix(key).inv_mod(mod_key)\n",
    "x = multiplicative_inverse(determinant%mod_key,mod_key)\n",
    "list1 = np.array([round((i*determinant*x)%mod_key) for i in a])\n",
    "list1 = np.reshape(list1,(key_length,key_length))\n",
    "print(list1)\n",
    "print(list1.dot(key))\n",
    "\n",
    "decrypted_message = decrypt_hill_cipher(encrypted_text,list1)\n",
    "print('The decrypted message is \" ',decrypted_message,' \"')\n",
    "\n"
   ]
  },
  {
   "cell_type": "code",
   "execution_count": null,
   "metadata": {},
   "outputs": [],
   "source": []
  }
 ],
 "metadata": {
  "kernelspec": {
   "display_name": "SageMath 9.1",
   "language": "sage",
   "name": "sagemath"
  },
  "language_info": {
   "codemirror_mode": {
    "name": "ipython",
    "version": 3
   },
   "file_extension": ".py",
   "mimetype": "text/x-python",
   "name": "python",
   "nbconvert_exporter": "python",
   "pygments_lexer": "ipython3",
   "version": "3.7.3"
  }
 },
 "nbformat": 4,
 "nbformat_minor": 2
}
