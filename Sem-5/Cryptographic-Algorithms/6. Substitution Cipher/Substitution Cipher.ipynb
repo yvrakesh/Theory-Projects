{
 "cells": [
  {
   "cell_type": "code",
   "execution_count": 1,
   "metadata": {},
   "outputs": [],
   "source": [
    "def encrypt_substitution_cipher(a,key):\n",
    "    res = []\n",
    "    for i in range(0,len(a)):\n",
    "        if (a[i]>='a' and a[i]<='z'):\n",
    "            res.append(key[ord(a[i])-ord('a')])\n",
    "    return res"
   ]
  },
  {
   "cell_type": "code",
   "execution_count": 2,
   "metadata": {},
   "outputs": [],
   "source": [
    "def decrypt_substitution_cipher(a,key):\n",
    "    for i in range(0,len(a)):\n",
    "        if(a[i]>='a' and a[i]<='z'):\n",
    "            for j in range(0,26):\n",
    "                if(key[j]==a[i]):\n",
    "                    a[i] = chr(ord('a')+j)\n",
    "                    break\n",
    "    return a"
   ]
  },
  {
   "cell_type": "code",
   "execution_count": 3,
   "metadata": {},
   "outputs": [
    {
     "name": "stdout",
     "output_type": "stream",
     "text": [
      "The input plain text is  substitution cipher is generalization for any character change cipher but here i am just using the mapping function that maps a character to another character\n",
      "The encrypted message is ncznlilclikmxipadhinvdmdhbjitblikmrkhbmqxabhbxldhxabmvdxipadhzcladhdibsocnlcnimvladsbppimvrcmxlikmlablsbpnbxabhbxldhlkbmkladhxabhbxldh\n",
      "The decrypted message is substitutioncipherisgeneralizationforanycharacterchangecipherbuthereiamjustusingthemappingfunctionthatmapsacharactertoanothercharacter\n"
     ]
    }
   ],
   "source": [
    "PlainText = 'Substitution Cipher is generalization for any character change cipher but here I am just using the mapping function that maps a character to another character'\n",
    "PlainText = PlainText.lower()\n",
    "#PlainText = 'abcdefghijklmnopqrstuvwxyz'\n",
    "print('The input plain text is ',PlainText)\n",
    "key = ['b','z','x','f','d','r','v','a','i','o','w','j','s','m','k','p','u','h','n','l','c','y','g','e','q','t']\n",
    "plain_list = []\n",
    "for i in range(0,len(PlainText)):\n",
    "    plain_list.append(PlainText[i])\n",
    "encrypted_message = encrypt_substitution_cipher(plain_list,key)\n",
    "print('The encrypted message is ', *encrypted_message,sep='')\n",
    "\n",
    "decrypted_message = decrypt_substitution_cipher(encrypted_message,key)\n",
    "print('The decrypted message is ',*decrypted_message,sep='')"
   ]
  },
  {
   "cell_type": "code",
   "execution_count": null,
   "metadata": {},
   "outputs": [],
   "source": []
  }
 ],
 "metadata": {
  "kernelspec": {
   "display_name": "SageMath 9.1",
   "language": "sage",
   "name": "sagemath"
  },
  "language_info": {
   "codemirror_mode": {
    "name": "ipython",
    "version": 3
   },
   "file_extension": ".py",
   "mimetype": "text/x-python",
   "name": "python",
   "nbconvert_exporter": "python",
   "pygments_lexer": "ipython3",
   "version": "3.7.3"
  }
 },
 "nbformat": 4,
 "nbformat_minor": 2
}
