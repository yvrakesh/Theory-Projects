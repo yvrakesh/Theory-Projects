{
 "cells": [
  {
   "cell_type": "code",
   "execution_count": 4,
   "metadata": {},
   "outputs": [
    {
     "name": "stdout",
     "output_type": "stream",
     "text": [
      "The multiplicative inverse of key is  7\n"
     ]
    },
    {
     "data": {
      "text/plain": [
       "7"
      ]
     },
     "execution_count": 4,
     "metadata": {},
     "output_type": "execute_result"
    }
   ],
   "source": [
    "def inv_key(key,n):\n",
    "    for i in range(1,n,1):\n",
    "        if((key*i)%n == 1):\n",
    "            print('The multiplicative inverse of key is ',i);\n",
    "            if(key==i):\n",
    "                continue\n",
    "            return i\n",
    "alpha,beta = 8,11\n",
    "inv_key(alpha,beta)\n",
    "#print((19*19)%36)"
   ]
  },
  {
   "cell_type": "code",
   "execution_count": 2,
   "metadata": {
    "scrolled": true
   },
   "outputs": [
    {
     "name": "stdout",
     "output_type": "stream",
     "text": [
      "2.4848588961634497e+77\n"
     ]
    }
   ],
   "source": [
    "import math\n",
    "print(pow(2,(513/2))*math.sqrt(math.log(10)))"
   ]
  },
  {
   "cell_type": "code",
   "execution_count": 51,
   "metadata": {},
   "outputs": [],
   "source": [
    "def gcdExtended(a, b):  \n",
    "    if a == 0 :   \n",
    "        return b, 0, 1\n",
    "    gcd, x1, y1 = gcdExtended(b%a, a)  \n",
    "    x = y1 - (b//a) * x1  \n",
    "    y = x1       \n",
    "    return gcd, x, y "
   ]
  },
  {
   "cell_type": "code",
   "execution_count": 52,
   "metadata": {},
   "outputs": [
    {
     "name": "stdout",
     "output_type": "stream",
     "text": [
      "GCD  2\n"
     ]
    }
   ],
   "source": [
    "gcd,x,y = gcdExtended(alpha,beta)\n",
    "print('GCD ',gcd)"
   ]
  },
  {
   "cell_type": "code",
   "execution_count": 33,
   "metadata": {},
   "outputs": [
    {
     "data": {
      "text/plain": [
       "2"
      ]
     },
     "execution_count": 33,
     "metadata": {},
     "output_type": "execute_result"
    }
   ],
   "source": [
    "int(pow(11,7))%13"
   ]
  },
  {
   "cell_type": "code",
   "execution_count": 22,
   "metadata": {},
   "outputs": [
    {
     "name": "stdout",
     "output_type": "stream",
     "text": [
      "4\n",
      "25\n",
      "168\n",
      "1229\n",
      "9592\n",
      "78498\n",
      "664579\n"
     ]
    }
   ],
   "source": [
    "import math\n",
    "def isPrime(n):\n",
    "    i = 3\n",
    "    while(i*i <= n):\n",
    "        if(n%i==0):\n",
    "            return 0\n",
    "        i = i+2\n",
    "    return 1\n",
    "def prime_count(n):\n",
    "    if(n<=1):\n",
    "        return 0\n",
    "    elif (n==2):\n",
    "        return 1\n",
    "    count = 1\n",
    "    for i in range(3,n,2):\n",
    "        if(isPrime(i)):\n",
    "            count += 1\n",
    "    return count\n",
    "print(prime_count(10))\n",
    "print(prime_count(100))\n",
    "print(prime_count(1000))\n",
    "print(prime_count(10000))\n",
    "print(prime_count(100000))\n",
    "print(prime_count(1000000))\n",
    "print(prime_count(10000000))"
   ]
  },
  {
   "cell_type": "code",
   "execution_count": 26,
   "metadata": {},
   "outputs": [
    {
     "name": "stdout",
     "output_type": "stream",
     "text": [
      "613\n",
      "709\n"
     ]
    }
   ],
   "source": [
    "import math \n",
    "def primeFactors(n): \n",
    "    while n % 2 == 0: \n",
    "        print(2)\n",
    "        n = n / 2\n",
    "    for i in range(3,int(math.sqrt(n))+1,2): \n",
    "        while n % i== 0: \n",
    "            print(i)\n",
    "            n = n / i \n",
    "    if n > 2: \n",
    "        print(int(n))\n",
    "primeFactors(434617)"
   ]
  },
  {
   "cell_type": "code",
   "execution_count": 47,
   "metadata": {},
   "outputs": [],
   "source": [
    "#quadratic congruence\n",
    "def quad_congr(a,n):\n",
    "    for i in range(1,n):\n",
    "        if((i*i)%n==a):\n",
    "            print(i)\n",
    "quad_congr(2,11)"
   ]
  },
  {
   "cell_type": "code",
   "execution_count": 49,
   "metadata": {},
   "outputs": [
    {
     "name": "stdout",
     "output_type": "stream",
     "text": [
      "1\n"
     ]
    }
   ],
   "source": [
    "print((343*12007)%(396*400))"
   ]
  }
 ],
 "metadata": {
  "kernelspec": {
   "display_name": "Python 3",
   "language": "python",
   "name": "python3"
  },
  "language_info": {
   "codemirror_mode": {
    "name": "ipython",
    "version": 3
   },
   "file_extension": ".py",
   "mimetype": "text/x-python",
   "name": "python",
   "nbconvert_exporter": "python",
   "pygments_lexer": "ipython3",
   "version": "3.8.4"
  }
 },
 "nbformat": 4,
 "nbformat_minor": 2
}
