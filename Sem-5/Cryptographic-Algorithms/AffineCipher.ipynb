{
 "cells": [
  {
   "cell_type": "code",
   "execution_count": 1,
   "metadata": {},
   "outputs": [],
   "source": [
    "def encrypt_affine_cipher(a,key1,key2):\n",
    "    res = \"\"\n",
    "    for i in range(0,len(a)):\n",
    "        if(a[i]>='a' and a[i]<='z'):\n",
    "            res += (chr(ord('a')+((ord(a[i])-97)*key1+key2)%26))\n",
    "    return res"
   ]
  },
  {
   "cell_type": "code",
   "execution_count": 2,
   "metadata": {},
   "outputs": [],
   "source": [
    "def decrypt_affine_cipher(a,key1,key2):\n",
    "    res = \"\"\n",
    "    for i in range(0,len(a)):\n",
    "        if(a[i]>='a' and a[i]<='z'):\n",
    "            res += chr(ord('a')+((ord(a[i])-97-key2)*key1)%26)\n",
    "    return res"
   ]
  },
  {
   "cell_type": "code",
   "execution_count": 3,
   "metadata": {},
   "outputs": [
    {
     "name": "stdout",
     "output_type": "stream",
     "text": [
      "Input Plain Text is  affine cipher is combination of additive and multiplicative ciphers which is also substitution cipher\n",
      "Multiplicative inverse of key  3  is  9\n",
      "The encrypted message is  hwwfutnfactgfjnxrkfuhmfxuxwhqqfmfsthuqrpomfaofnhmfstnfactgjvcfncfjhojxjpkjmfmpmfxunfactg\n",
      "The decrypted message is  affinecipheriscombinationofadditiveandmultiplicativecipherswhichisalsosubstitutioncipher\n"
     ]
    }
   ],
   "source": [
    "PlainText = 'Affine Cipher is combination of additive and multiplicative Ciphers which is also Substitution Cipher'\n",
    "PlainText = PlainText.lower()\n",
    "key1 = 3\n",
    "key2 = 7\n",
    "print('Input Plain Text is ',PlainText)\n",
    "list1 = [1,3,5,7,9,11,15,17,19,21,23,25]\n",
    "flag = 0\n",
    "key3 = -1\n",
    "for i in list1:\n",
    "    if (key1*i)%26 == 1:\n",
    "        flag = 1\n",
    "        key3 = i\n",
    "        break\n",
    "if flag==0:\n",
    "    print('The key ',key1,' has no multiplicative inverse. Hence Affine Cipher cannot be applied')\n",
    "else:\n",
    "    print('Multiplicative inverse of key ',key1,' is ',key3)\n",
    "    \n",
    "    encrypted_message = encrypt_affine_cipher(PlainText,key1,key2)\n",
    "    print('The encrypted message is ',encrypted_message)\n",
    "\n",
    "    decrypted_message = decrypt_affine_cipher(encrypted_message,key3,key2)\n",
    "    print('The decrypted message is ',decrypted_message)\n"
   ]
  },
  {
   "cell_type": "code",
   "execution_count": 4,
   "metadata": {},
   "outputs": [
    {
     "name": "stdout",
     "output_type": "stream",
     "text": [
      "Input Plain Text is  affine cipher is the combination of additive and multiplicative ciphers(substitution cipher)\n",
      "The key  4  has no multiplicative inverse. Hence Affine Cipher cannot be applied\n"
     ]
    }
   ],
   "source": [
    "PlainText = 'Affine Cipher is the combination of additive and multiplicative Ciphers(Substitution Cipher)'\n",
    "PlainText = PlainText.lower()\n",
    "key1 = 4\n",
    "key2 = 7\n",
    "print('Input Plain Text is ',PlainText)\n",
    "list1 = [1,3,5,7,9,11,15,17,19,21,23,25]\n",
    "flag = 0\n",
    "key3 = -1\n",
    "for i in list1:\n",
    "    if (key1*i)%26 == 1:\n",
    "        flag = 1\n",
    "        key3 = i\n",
    "        break\n",
    "if flag==0:\n",
    "    print('The key ',key1,' has no multiplicative inverse. Hence Affine Cipher cannot be applied')\n",
    "else:\n",
    "    print('Multiplicative inverse of key ',key1,' is ',key3)\n",
    "    \n",
    "    encrypted_message = encrypt_affine_cipher(PlainText,key1,key2)\n",
    "    print('The encrypted message is ',encrypted_message)\n",
    "\n",
    "    decrypted_message = decrypt_affine_cipher(encrypted_message,key3,key2)\n",
    "    print('The decrypted message is ',decrypted_message)\n"
   ]
  },
  {
   "cell_type": "code",
   "execution_count": null,
   "metadata": {},
   "outputs": [],
   "source": []
  }
 ],
 "metadata": {
  "kernelspec": {
   "display_name": "SageMath 9.1",
   "language": "sage",
   "name": "sagemath"
  },
  "language_info": {
   "codemirror_mode": {
    "name": "ipython",
    "version": 3
   },
   "file_extension": ".py",
   "mimetype": "text/x-python",
   "name": "python",
   "nbconvert_exporter": "python",
   "pygments_lexer": "ipython3",
   "version": "3.7.3"
  }
 },
 "nbformat": 4,
 "nbformat_minor": 2
}
