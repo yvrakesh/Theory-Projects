{
 "cells": [
  {
   "cell_type": "code",
   "execution_count": null,
   "metadata": {},
   "outputs": [],
   "source": [
    "import os\n",
    "import glob\n",
    "import pandas as pd\n",
    "os.chdir(r\"D:\\Downladed files\\files_to_merge\\NDVI 2001 to 2005\")\n",
    "extension = 'csv'\n",
    "all_filenames = [i for i in glob.glob('*.{}'.format(extension))]\n",
    "combined_csv = pd.concat([pd.read_csv(f) for f in all_filenames ])\n",
    "combined_csv.to_csv( \"combined_csv_1.csv\", index=False, encoding='utf-8-sig')"
   ]
  },
  {
   "cell_type": "code",
   "execution_count": null,
   "metadata": {},
   "outputs": [],
   "source": [
    "os.chdir(r\"D:\\Downladed files\\files_to_merge\\NDVI 2006 to 2010\")\n",
    "extension = 'csv'\n",
    "all_filenames = [i for i in glob.glob('*.{}'.format(extension))]\n",
    "combined_csv = pd.concat([pd.read_csv(f) for f in all_filenames ])\n",
    "combined_csv.to_csv( \"combined_csv_2.csv\", index=False, encoding='utf-8-sig')"
   ]
  },
  {
   "cell_type": "code",
   "execution_count": null,
   "metadata": {},
   "outputs": [],
   "source": [
    "os.chdir(r\"D:\\Downladed files\\files_to_merge\\NDVI 2010 to 2015\")\n",
    "extension = 'csv'\n",
    "all_filenames = [i for i in glob.glob('*.{}'.format(extension))]\n",
    "combined_csv = pd.concat([pd.read_csv(f) for f in all_filenames ])\n",
    "combined_csv.to_csv( \"combined_csv_3.csv\", index=False, encoding='utf-8-sig')"
   ]
  },
  {
   "cell_type": "code",
   "execution_count": null,
   "metadata": {},
   "outputs": [],
   "source": [
    "os.chdir(r\"D:\\Downladed files\\files_to_merge\\NDVI 2015 to 2020\")\n",
    "extension = 'csv'\n",
    "all_filenames = [i for i in glob.glob('*.{}'.format(extension))]\n",
    "combined_csv = pd.concat([pd.read_csv(f) for f in all_filenames ])\n",
    "combined_csv.to_csv( \"combined_csv_4.csv\", index=False, encoding='utf-8-sig')"
   ]
  },
  {
   "cell_type": "code",
   "execution_count": null,
   "metadata": {},
   "outputs": [],
   "source": [
    "import numpy as np\n",
    "df = pd.read_csv(r\"D:\\Downladed files\\files_to_merge\\combined_csv_1.csv\")\n",
    "df.drop([\".geo\",\"system:index\"], axis=1,inplace = True)\n",
    "df['S.No.'] = np.arange(1,df.shape[0]+1)\n",
    "df = df[['S.No.','DISTRICT','DT_CEN_CD','ST_CEN_CD','ST_NM','date','mean']]\n",
    "df.to_csv(r\"D:\\Downladed files\\files_to_merge\\combined_csv_comp_1.csv\",index=False)"
   ]
  },
  {
   "cell_type": "code",
   "execution_count": null,
   "metadata": {},
   "outputs": [],
   "source": [
    "df = pd.read_csv(r\"D:\\Downladed files\\files_to_merge\\combined_csv_2.csv\")\n",
    "df.drop([\".geo\",\"system:index\"], axis=1,inplace = True)\n",
    "df['S.No.'] = np.arange(1,df.shape[0]+1)\n",
    "df = df[['S.No.','DISTRICT','DT_CEN_CD','ST_CEN_CD','ST_NM','date','mean']]\n",
    "df.to_csv(r\"D:\\Downladed files\\files_to_merge\\combined_csv_comp_2.csv\",index=False)"
   ]
  },
  {
   "cell_type": "code",
   "execution_count": null,
   "metadata": {},
   "outputs": [],
   "source": [
    "df = pd.read_csv(r\"D:\\Downladed files\\files_to_merge\\combined_csv_3.csv\")\n",
    "df.drop([\".geo\",\"system:index\"], axis=1,inplace = True)\n",
    "df['S.No.'] = np.arange(1,df.shape[0]+1)\n",
    "df = df[['S.No.','DISTRICT','DT_CEN_CD','ST_CEN_CD','ST_NM','date','mean']]\n",
    "df.to_csv(r\"D:\\Downladed files\\files_to_merge\\combined_csv_comp_3.csv\",index=False)"
   ]
  },
  {
   "cell_type": "code",
   "execution_count": 5,
   "metadata": {},
   "outputs": [],
   "source": [
    "df = pd.read_csv(r\"D:\\Downladed files\\files_to_merge\\combined_csv_4.csv\")\n",
    "df.drop([\".geo\",\"system:index\"], axis=1,inplace = True)\n",
    "df['S.No.'] = np.arange(1,df.shape[0]+1)\n",
    "df = df[['S.No.','DISTRICT','DT_CEN_CD','ST_CEN_CD','ST_NM','date','mean']]\n",
    "df.to_csv(r\"D:\\Downladed files\\files_to_merge\\combined_csv_comp_4.csv\",index=False)"
   ]
  },
  {
   "cell_type": "code",
   "execution_count": 7,
   "metadata": {},
   "outputs": [],
   "source": [
    "df = pd.read_csv(r\"D:\\Downladed files\\files_to_merge\\Compressed\\combined_csv.csv\")\n",
    "df['S.No.'] = np.arange(1,df.shape[0]+1)\n",
    "df = df[['S.No.','DISTRICT','DT_CEN_CD','ST_CEN_CD','ST_NM','date','mean']]\n",
    "df.to_csv(r\"D:\\Downladed files\\files_to_merge\\Compressed\\combined_csv_cor.csv\",index=False)"
   ]
  },
  {
   "cell_type": "code",
   "execution_count": null,
   "metadata": {},
   "outputs": [],
   "source": []
  }
 ],
 "metadata": {
  "kernelspec": {
   "display_name": "Python 3",
   "language": "python",
   "name": "python3"
  },
  "language_info": {
   "codemirror_mode": {
    "name": "ipython",
    "version": 3
   },
   "file_extension": ".py",
   "mimetype": "text/x-python",
   "name": "python",
   "nbconvert_exporter": "python",
   "pygments_lexer": "ipython3",
   "version": "3.8.3"
  }
 },
 "nbformat": 4,
 "nbformat_minor": 4
}
