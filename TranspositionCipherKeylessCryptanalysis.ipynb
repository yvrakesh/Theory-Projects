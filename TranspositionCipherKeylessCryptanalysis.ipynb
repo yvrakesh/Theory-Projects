{
 "cells": [
  {
   "cell_type": "code",
   "execution_count": 11,
   "metadata": {},
   "outputs": [],
   "source": [
    "dict1 = []\n",
    "file = open(r'D:\\Downladed files\\words_alpha.txt', 'r')\n",
    "for line in file.readlines():\n",
    "    dict1.append(line[:-1])"
   ]
  },
  {
   "cell_type": "code",
   "execution_count": 12,
   "metadata": {},
   "outputs": [],
   "source": [
    "def substring1(s, n):\n",
    "    count,l,i = 0,0,0\n",
    "    string = \"\"\n",
    "    while(i<n):\n",
    "        temp = \"\"\n",
    "        for k in range(i,n):\n",
    "            if( s[i: k+1] in dict1):\n",
    "                temp = s[i: k+1]\n",
    "        if(temp[0] == s[l:l+1]):\n",
    "            string += temp\n",
    "            string += \" \"\n",
    "            l += len(temp)\n",
    "            i = l-1\n",
    "        i += 1\n",
    "    return string"
   ]
  },
  {
   "cell_type": "code",
   "execution_count": 13,
   "metadata": {},
   "outputs": [],
   "source": [
    "def bruteforceattack(a):\n",
    "    result = \"\"\n",
    "    n = len(a)\n",
    "    b = ceil(n/2)\n",
    "    for i in range(0,b,1):\n",
    "        result += a[i]\n",
    "        if(i+b<n):\n",
    "            result += a[b+i]\n",
    "    #This function is to print text along with spaces by checking from dictionary\n",
    "    res = substring1(result,n)\n",
    "    return res"
   ]
  },
  {
   "cell_type": "code",
   "execution_count": 14,
   "metadata": {},
   "outputs": [
    {
     "name": "stdout",
     "output_type": "stream",
     "text": [
      "encrypting using transposition cipher without the key \n"
     ]
    }
   ],
   "source": [
    "s = \"ecytnuigrnpstocpewtothkynrpigsntasoiinihrihutee\"\n",
    "decrypted_message = bruteforceattack(s)\n",
    "print(decrypted_message)"
   ]
  },
  {
   "cell_type": "code",
   "execution_count": null,
   "metadata": {},
   "outputs": [],
   "source": []
  }
 ],
 "metadata": {
  "kernelspec": {
   "display_name": "SageMath 9.1",
   "language": "sage",
   "name": "sagemath"
  },
  "language_info": {
   "codemirror_mode": {
    "name": "ipython",
    "version": 3
   },
   "file_extension": ".py",
   "mimetype": "text/x-python",
   "name": "python",
   "nbconvert_exporter": "python",
   "pygments_lexer": "ipython3",
   "version": "3.7.3"
  }
 },
 "nbformat": 4,
 "nbformat_minor": 2
}
